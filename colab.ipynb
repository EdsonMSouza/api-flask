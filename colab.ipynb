{
  "cells": [
    {
      "cell_type": "code",
      "execution_count": 4,
      "metadata": {
        "id": "VxubuR6DoVx5"
      },
      "outputs": [],
      "source": [
        "# Importação da bibliotecas\n",
        "import requests\n",
        "import json\n",
        "import pandas as pd\n",
        "from pandas import json_normalize"
      ]
    },
    {
      "cell_type": "markdown",
      "metadata": {
        "id": "_xsyEXj3p8nB"
      },
      "source": [
        "# Usando a API para realizar cálculos\n",
        "\n",
        "* Adição (/somar/v1/v2)\n",
        "* Multiplicação (/multiplicar/v1/v2)"
      ]
    },
    {
      "cell_type": "markdown",
      "metadata": {
        "id": "JJuGCQlYqKpT"
      },
      "source": [
        "### Adição"
      ]
    },
    {
      "cell_type": "code",
      "execution_count": null,
      "metadata": {
        "colab": {
          "base_uri": "https://localhost:8080/"
        },
        "id": "cZDuC1hbpxj_",
        "outputId": "e281df83-7785-439d-cb6e-a28fc54e4f61"
      },
      "outputs": [],
      "source": [
        "v1 = 2\n",
        "v2 = 3\n",
        "requisicao = requests.get(f'https://api-flask.edsonmelo.repl.co/somar/{v1}/{v2}')\n",
        "\n",
        "print('Status da solicitação:', requisicao)\n",
        "print('Dados recebidos:', requisicao.json())\n",
        "print()\n",
        "\n",
        "print('V1.......:', requisicao.json()['v1'])\n",
        "print('V2.......:', requisicao.json()['v2'])\n",
        "print('Operação.:', requisicao.json()['operacao'])\n",
        "print('Resultado:', requisicao.json()['resultado'])"
      ]
    },
    {
      "cell_type": "markdown",
      "metadata": {
        "id": "GkvgXFFiqxZm"
      },
      "source": [
        "### Multiplicação"
      ]
    },
    {
      "cell_type": "code",
      "execution_count": null,
      "metadata": {
        "colab": {
          "base_uri": "https://localhost:8080/"
        },
        "id": "dD9zMrT-pxax",
        "outputId": "03995929-96db-42c9-cbbe-a58fc21ae2be"
      },
      "outputs": [],
      "source": [
        "v1 = 2\n",
        "v2 = 3\n",
        "requisicao = requests.get(f'https://api-flask.edsonmelo.repl.co/multiplicar/{v1}/{v2}')\n",
        "\n",
        "print('Status da solicitação:', requisicao)\n",
        "print('Dados recebidos:', requisicao.json())\n",
        "print()\n",
        "\n",
        "print('V1.......:', requisicao.json()['v1'])\n",
        "print('V2.......:', requisicao.json()['v2'])\n",
        "print('Operação.:', requisicao.json()['operacao'])\n",
        "print('Resultado:', requisicao.json()['resultado'])"
      ]
    },
    {
      "cell_type": "markdown",
      "metadata": {
        "id": "fy-hz-qIq_ED"
      },
      "source": [
        "# Dados Remoto (CSV)"
      ]
    },
    {
      "cell_type": "code",
      "execution_count": null,
      "metadata": {
        "colab": {
          "base_uri": "https://localhost:8080/",
          "height": 206
        },
        "id": "H4q91xZDpA-i",
        "outputId": "2f26c878-df26-4176-e885-7644917fddb3"
      },
      "outputs": [],
      "source": [
        "# Cinco primeiros registros\n",
        "requisicao = requests.get('https://api-flask.edsonmelo.repl.co/previa')\n",
        "\n",
        "# Transformando os dados JSON recebidos em um DataFrame\n",
        "df = pd.read_json(requisicao.text)\n",
        "df.drop('Seq', axis=1, inplace=True)\n",
        "df.head()"
      ]
    },
    {
      "cell_type": "code",
      "execution_count": null,
      "metadata": {
        "colab": {
          "base_uri": "https://localhost:8080/"
        },
        "id": "5SvHuHNgowa5",
        "outputId": "4f5fc432-a8a9-4726-c1ec-3ebcc11f8964"
      },
      "outputs": [],
      "source": [
        "# Dados sobre Vendas\n",
        "requisicao = requests.get('https://api-flask.edsonmelo.repl.co/totalvendas')\n",
        "\n",
        "print('Status da solicitação:', requisicao)\n",
        "print('Dados recebidos:', requisicao.json())\n",
        "\n",
        "# Dados manipulados\n",
        "print('Total das vendas:', requisicao.json()['total_vendas'])"
      ]
    }
  ],
  "metadata": {
    "colab": {
      "provenance": []
    },
    "kernelspec": {
      "display_name": "Python 3",
      "name": "python3"
    },
    "language_info": {
      "name": "python"
    }
  },
  "nbformat": 4,
  "nbformat_minor": 0
}
